{
 "cells": [
  {
   "cell_type": "markdown",
   "id": "62865ca8-f381-41a2-9569-aed0a445578b",
   "metadata": {},
   "source": [
    "# Heart Disease Dectection Project"
   ]
  },
  {
   "cell_type": "markdown",
   "id": "03f9ad9d-38e3-4b09-ae4a-f3bba51eabe3",
   "metadata": {},
   "source": [
    "### Algorithm : Logistic Regression"
   ]
  },
  {
   "cell_type": "markdown",
   "id": "2a7047c9-83d2-4c2a-a184-554d6dd19ce3",
   "metadata": {},
   "source": [
    "#### Algorithm Type : Binary Classification"
   ]
  },
  {
   "cell_type": "markdown",
   "id": "471e2f2c-af6c-4f52-87b7-1d9e55f7614b",
   "metadata": {},
   "source": [
    "## Importing the Dependencies"
   ]
  },
  {
   "cell_type": "code",
   "execution_count": 45,
   "id": "1925e8b2-94f5-4fd7-b868-bfc7c728ed65",
   "metadata": {},
   "outputs": [],
   "source": [
    "import pandas as pd\n",
    "import numpy as np\n",
    "import matplotlib.pyplot as plt\n",
    "from sklearn.preprocessing import OneHotEncoder\n",
    "from sklearn.linear_model import LogisticRegression\n",
    "from sklearn.metrics import accuracy_score\n",
    "from sklearn.model_selection import train_test_split\n",
    "import warnings\n",
    "warnings.filterwarnings('ignore')\n",
    "import pickle"
   ]
  },
  {
   "cell_type": "markdown",
   "id": "1a9a835d-626b-4ee0-aa9d-23bfbc40d4a0",
   "metadata": {},
   "source": [
    "## Data Loading"
   ]
  },
  {
   "cell_type": "code",
   "execution_count": 2,
   "id": "12da558b-1cd1-432d-943e-d6e02406b000",
   "metadata": {},
   "outputs": [],
   "source": [
    "df = pd.read_csv(\"data.csv\")"
   ]
  },
  {
   "cell_type": "code",
   "execution_count": 3,
   "id": "0b75279e-8a19-44ae-a0fb-2ee570c8d6c4",
   "metadata": {},
   "outputs": [
    {
     "data": {
      "text/html": [
       "<div>\n",
       "<style scoped>\n",
       "    .dataframe tbody tr th:only-of-type {\n",
       "        vertical-align: middle;\n",
       "    }\n",
       "\n",
       "    .dataframe tbody tr th {\n",
       "        vertical-align: top;\n",
       "    }\n",
       "\n",
       "    .dataframe thead th {\n",
       "        text-align: right;\n",
       "    }\n",
       "</style>\n",
       "<table border=\"1\" class=\"dataframe\">\n",
       "  <thead>\n",
       "    <tr style=\"text-align: right;\">\n",
       "      <th></th>\n",
       "      <th>age</th>\n",
       "      <th>gender</th>\n",
       "      <th>cp</th>\n",
       "      <th>trestbps</th>\n",
       "      <th>chol</th>\n",
       "      <th>fbs</th>\n",
       "      <th>restecg</th>\n",
       "      <th>thalach</th>\n",
       "      <th>exang</th>\n",
       "      <th>oldpeak</th>\n",
       "      <th>slope</th>\n",
       "      <th>ca</th>\n",
       "      <th>thal</th>\n",
       "      <th>target</th>\n",
       "    </tr>\n",
       "  </thead>\n",
       "  <tbody>\n",
       "    <tr>\n",
       "      <th>0</th>\n",
       "      <td>52</td>\n",
       "      <td>Female</td>\n",
       "      <td>asymptomatic</td>\n",
       "      <td>125.0</td>\n",
       "      <td>212.0</td>\n",
       "      <td>0</td>\n",
       "      <td>1.0</td>\n",
       "      <td>168.0</td>\n",
       "      <td>0</td>\n",
       "      <td>1.0</td>\n",
       "      <td>2.0</td>\n",
       "      <td>2</td>\n",
       "      <td>reversible defect</td>\n",
       "      <td>0</td>\n",
       "    </tr>\n",
       "    <tr>\n",
       "      <th>1</th>\n",
       "      <td>53</td>\n",
       "      <td>Male</td>\n",
       "      <td>asymptomatic</td>\n",
       "      <td>140.0</td>\n",
       "      <td>203.0</td>\n",
       "      <td>1</td>\n",
       "      <td>0.0</td>\n",
       "      <td>155.0</td>\n",
       "      <td>1</td>\n",
       "      <td>3.1</td>\n",
       "      <td>0.0</td>\n",
       "      <td>0</td>\n",
       "      <td>reversible defect</td>\n",
       "      <td>0</td>\n",
       "    </tr>\n",
       "    <tr>\n",
       "      <th>2</th>\n",
       "      <td>70</td>\n",
       "      <td>Male</td>\n",
       "      <td>asymptomatic</td>\n",
       "      <td>145.0</td>\n",
       "      <td>174.0</td>\n",
       "      <td>0</td>\n",
       "      <td>1.0</td>\n",
       "      <td>125.0</td>\n",
       "      <td>1</td>\n",
       "      <td>2.6</td>\n",
       "      <td>0.0</td>\n",
       "      <td>0</td>\n",
       "      <td>reversible defect</td>\n",
       "      <td>0</td>\n",
       "    </tr>\n",
       "    <tr>\n",
       "      <th>3</th>\n",
       "      <td>61</td>\n",
       "      <td>Male</td>\n",
       "      <td>asymptomatic</td>\n",
       "      <td>148.0</td>\n",
       "      <td>203.0</td>\n",
       "      <td>0</td>\n",
       "      <td>1.0</td>\n",
       "      <td>161.0</td>\n",
       "      <td>0</td>\n",
       "      <td>0.0</td>\n",
       "      <td>2.0</td>\n",
       "      <td>1</td>\n",
       "      <td>reversible defect</td>\n",
       "      <td>0</td>\n",
       "    </tr>\n",
       "    <tr>\n",
       "      <th>4</th>\n",
       "      <td>62</td>\n",
       "      <td>Female</td>\n",
       "      <td>asymptomatic</td>\n",
       "      <td>138.0</td>\n",
       "      <td>294.0</td>\n",
       "      <td>1</td>\n",
       "      <td>1.0</td>\n",
       "      <td>106.0</td>\n",
       "      <td>0</td>\n",
       "      <td>1.9</td>\n",
       "      <td>1.0</td>\n",
       "      <td>3</td>\n",
       "      <td>normal blood flow</td>\n",
       "      <td>0</td>\n",
       "    </tr>\n",
       "  </tbody>\n",
       "</table>\n",
       "</div>"
      ],
      "text/plain": [
       "   age  gender            cp  trestbps   chol  fbs  restecg  thalach  exang  \\\n",
       "0   52  Female  asymptomatic     125.0  212.0    0      1.0    168.0      0   \n",
       "1   53    Male  asymptomatic     140.0  203.0    1      0.0    155.0      1   \n",
       "2   70    Male  asymptomatic     145.0  174.0    0      1.0    125.0      1   \n",
       "3   61    Male  asymptomatic     148.0  203.0    0      1.0    161.0      0   \n",
       "4   62  Female  asymptomatic     138.0  294.0    1      1.0    106.0      0   \n",
       "\n",
       "   oldpeak  slope  ca               thal  target  \n",
       "0      1.0    2.0   2  reversible defect       0  \n",
       "1      3.1    0.0   0  reversible defect       0  \n",
       "2      2.6    0.0   0  reversible defect       0  \n",
       "3      0.0    2.0   1  reversible defect       0  \n",
       "4      1.9    1.0   3  normal blood flow       0  "
      ]
     },
     "execution_count": 3,
     "metadata": {},
     "output_type": "execute_result"
    }
   ],
   "source": [
    "df.head()"
   ]
  },
  {
   "cell_type": "code",
   "execution_count": 4,
   "id": "b81c4939-dbb4-4c38-bf56-2df505ccc0e9",
   "metadata": {},
   "outputs": [
    {
     "data": {
      "text/plain": [
       "(1200, 14)"
      ]
     },
     "execution_count": 4,
     "metadata": {},
     "output_type": "execute_result"
    }
   ],
   "source": [
    "df.shape"
   ]
  },
  {
   "cell_type": "raw",
   "id": "d1ee8ce2-be10-49d2-8dc4-b78cfc5b21e9",
   "metadata": {},
   "source": [
    "The dataset contains 1200 rows and 14 columns"
   ]
  },
  {
   "cell_type": "code",
   "execution_count": 5,
   "id": "bc408a97-4146-43f5-beff-e6621e4a9878",
   "metadata": {},
   "outputs": [
    {
     "name": "stdout",
     "output_type": "stream",
     "text": [
      "<class 'pandas.core.frame.DataFrame'>\n",
      "RangeIndex: 1200 entries, 0 to 1199\n",
      "Data columns (total 14 columns):\n",
      " #   Column    Non-Null Count  Dtype  \n",
      "---  ------    --------------  -----  \n",
      " 0   age       1200 non-null   int64  \n",
      " 1   gender    1200 non-null   object \n",
      " 2   cp        1200 non-null   object \n",
      " 3   trestbps  1199 non-null   float64\n",
      " 4   chol      1198 non-null   float64\n",
      " 5   fbs       1200 non-null   int64  \n",
      " 6   restecg   1199 non-null   float64\n",
      " 7   thalach   1199 non-null   float64\n",
      " 8   exang     1200 non-null   int64  \n",
      " 9   oldpeak   1200 non-null   float64\n",
      " 10  slope     1199 non-null   float64\n",
      " 11  ca        1200 non-null   int64  \n",
      " 12  thal      1191 non-null   object \n",
      " 13  target    1200 non-null   int64  \n",
      "dtypes: float64(6), int64(5), object(3)\n",
      "memory usage: 131.4+ KB\n"
     ]
    }
   ],
   "source": [
    "df.info()"
   ]
  },
  {
   "cell_type": "markdown",
   "id": "c53b1ae1-a88b-4e52-9ec3-b3d9a80ec620",
   "metadata": {},
   "source": [
    "## Data Preparation"
   ]
  },
  {
   "cell_type": "markdown",
   "id": "9d3807d5-7654-4e99-ad65-0fda5ec68fb5",
   "metadata": {},
   "source": [
    "#### Renaming the columns"
   ]
  },
  {
   "cell_type": "code",
   "execution_count": 6,
   "id": "5bd1a3a4-4c4e-44e6-820b-db027c7c8955",
   "metadata": {},
   "outputs": [],
   "source": [
    "df.rename(columns = {'cp' : 'chestpain', 'trestbps' : 'resting_blood_pressure', 'chol' : 'cholestrol', 'fbs' : 'fasting_blood_sugar', 'thalach' : 'max_heart_rate', 'exang' : 'exercise_induced_angina', 'ca' : 'major_vessels', 'thal' : 'thalassemia'}, inplace = True)"
   ]
  },
  {
   "cell_type": "code",
   "execution_count": 7,
   "id": "796ef401-1ed4-4840-8f8f-d4ad3bf3abb8",
   "metadata": {},
   "outputs": [
    {
     "data": {
      "text/html": [
       "<div>\n",
       "<style scoped>\n",
       "    .dataframe tbody tr th:only-of-type {\n",
       "        vertical-align: middle;\n",
       "    }\n",
       "\n",
       "    .dataframe tbody tr th {\n",
       "        vertical-align: top;\n",
       "    }\n",
       "\n",
       "    .dataframe thead th {\n",
       "        text-align: right;\n",
       "    }\n",
       "</style>\n",
       "<table border=\"1\" class=\"dataframe\">\n",
       "  <thead>\n",
       "    <tr style=\"text-align: right;\">\n",
       "      <th></th>\n",
       "      <th>age</th>\n",
       "      <th>gender</th>\n",
       "      <th>chestpain</th>\n",
       "      <th>resting_blood_pressure</th>\n",
       "      <th>cholestrol</th>\n",
       "      <th>fasting_blood_sugar</th>\n",
       "      <th>restecg</th>\n",
       "      <th>max_heart_rate</th>\n",
       "      <th>exercise_induced_angina</th>\n",
       "      <th>oldpeak</th>\n",
       "      <th>slope</th>\n",
       "      <th>major_vessels</th>\n",
       "      <th>thalassemia</th>\n",
       "      <th>target</th>\n",
       "    </tr>\n",
       "  </thead>\n",
       "  <tbody>\n",
       "    <tr>\n",
       "      <th>0</th>\n",
       "      <td>52</td>\n",
       "      <td>Female</td>\n",
       "      <td>asymptomatic</td>\n",
       "      <td>125.0</td>\n",
       "      <td>212.0</td>\n",
       "      <td>0</td>\n",
       "      <td>1.0</td>\n",
       "      <td>168.0</td>\n",
       "      <td>0</td>\n",
       "      <td>1.0</td>\n",
       "      <td>2.0</td>\n",
       "      <td>2</td>\n",
       "      <td>reversible defect</td>\n",
       "      <td>0</td>\n",
       "    </tr>\n",
       "    <tr>\n",
       "      <th>1</th>\n",
       "      <td>53</td>\n",
       "      <td>Male</td>\n",
       "      <td>asymptomatic</td>\n",
       "      <td>140.0</td>\n",
       "      <td>203.0</td>\n",
       "      <td>1</td>\n",
       "      <td>0.0</td>\n",
       "      <td>155.0</td>\n",
       "      <td>1</td>\n",
       "      <td>3.1</td>\n",
       "      <td>0.0</td>\n",
       "      <td>0</td>\n",
       "      <td>reversible defect</td>\n",
       "      <td>0</td>\n",
       "    </tr>\n",
       "    <tr>\n",
       "      <th>2</th>\n",
       "      <td>70</td>\n",
       "      <td>Male</td>\n",
       "      <td>asymptomatic</td>\n",
       "      <td>145.0</td>\n",
       "      <td>174.0</td>\n",
       "      <td>0</td>\n",
       "      <td>1.0</td>\n",
       "      <td>125.0</td>\n",
       "      <td>1</td>\n",
       "      <td>2.6</td>\n",
       "      <td>0.0</td>\n",
       "      <td>0</td>\n",
       "      <td>reversible defect</td>\n",
       "      <td>0</td>\n",
       "    </tr>\n",
       "    <tr>\n",
       "      <th>3</th>\n",
       "      <td>61</td>\n",
       "      <td>Male</td>\n",
       "      <td>asymptomatic</td>\n",
       "      <td>148.0</td>\n",
       "      <td>203.0</td>\n",
       "      <td>0</td>\n",
       "      <td>1.0</td>\n",
       "      <td>161.0</td>\n",
       "      <td>0</td>\n",
       "      <td>0.0</td>\n",
       "      <td>2.0</td>\n",
       "      <td>1</td>\n",
       "      <td>reversible defect</td>\n",
       "      <td>0</td>\n",
       "    </tr>\n",
       "    <tr>\n",
       "      <th>4</th>\n",
       "      <td>62</td>\n",
       "      <td>Female</td>\n",
       "      <td>asymptomatic</td>\n",
       "      <td>138.0</td>\n",
       "      <td>294.0</td>\n",
       "      <td>1</td>\n",
       "      <td>1.0</td>\n",
       "      <td>106.0</td>\n",
       "      <td>0</td>\n",
       "      <td>1.9</td>\n",
       "      <td>1.0</td>\n",
       "      <td>3</td>\n",
       "      <td>normal blood flow</td>\n",
       "      <td>0</td>\n",
       "    </tr>\n",
       "  </tbody>\n",
       "</table>\n",
       "</div>"
      ],
      "text/plain": [
       "   age  gender     chestpain  resting_blood_pressure  cholestrol  \\\n",
       "0   52  Female  asymptomatic                   125.0       212.0   \n",
       "1   53    Male  asymptomatic                   140.0       203.0   \n",
       "2   70    Male  asymptomatic                   145.0       174.0   \n",
       "3   61    Male  asymptomatic                   148.0       203.0   \n",
       "4   62  Female  asymptomatic                   138.0       294.0   \n",
       "\n",
       "   fasting_blood_sugar  restecg  max_heart_rate  exercise_induced_angina  \\\n",
       "0                    0      1.0           168.0                        0   \n",
       "1                    1      0.0           155.0                        1   \n",
       "2                    0      1.0           125.0                        1   \n",
       "3                    0      1.0           161.0                        0   \n",
       "4                    1      1.0           106.0                        0   \n",
       "\n",
       "   oldpeak  slope  major_vessels        thalassemia  target  \n",
       "0      1.0    2.0              2  reversible defect       0  \n",
       "1      3.1    0.0              0  reversible defect       0  \n",
       "2      2.6    0.0              0  reversible defect       0  \n",
       "3      0.0    2.0              1  reversible defect       0  \n",
       "4      1.9    1.0              3  normal blood flow       0  "
      ]
     },
     "execution_count": 7,
     "metadata": {},
     "output_type": "execute_result"
    }
   ],
   "source": [
    "df.head()"
   ]
  },
  {
   "cell_type": "code",
   "execution_count": 8,
   "id": "bf2add85-4a8b-4219-a272-1cf3ce239a37",
   "metadata": {},
   "outputs": [
    {
     "data": {
      "text/plain": [
       "Index(['age', 'gender', 'chestpain', 'resting_blood_pressure', 'cholestrol',\n",
       "       'fasting_blood_sugar', 'restecg', 'max_heart_rate',\n",
       "       'exercise_induced_angina', 'oldpeak', 'slope', 'major_vessels',\n",
       "       'thalassemia', 'target'],\n",
       "      dtype='object')"
      ]
     },
     "execution_count": 8,
     "metadata": {},
     "output_type": "execute_result"
    }
   ],
   "source": [
    "df.columns"
   ]
  },
  {
   "cell_type": "markdown",
   "id": "f0678e19-dc11-40f7-8b8c-d360af020954",
   "metadata": {},
   "source": [
    "#### Dealing with null values"
   ]
  },
  {
   "cell_type": "code",
   "execution_count": 9,
   "id": "d31775ca-7436-4786-9245-06d38457ff05",
   "metadata": {},
   "outputs": [
    {
     "data": {
      "text/plain": [
       "age                        0\n",
       "gender                     0\n",
       "chestpain                  0\n",
       "resting_blood_pressure     1\n",
       "cholestrol                 2\n",
       "fasting_blood_sugar        0\n",
       "restecg                    1\n",
       "max_heart_rate             1\n",
       "exercise_induced_angina    0\n",
       "oldpeak                    0\n",
       "slope                      1\n",
       "major_vessels              0\n",
       "thalassemia                9\n",
       "target                     0\n",
       "dtype: int64"
      ]
     },
     "execution_count": 9,
     "metadata": {},
     "output_type": "execute_result"
    }
   ],
   "source": [
    "df.isnull().sum()"
   ]
  },
  {
   "cell_type": "code",
   "execution_count": 10,
   "id": "6d4d9fa3-69d6-4413-88a0-979417914ead",
   "metadata": {},
   "outputs": [
    {
     "data": {
      "text/plain": [
       "np.int64(15)"
      ]
     },
     "execution_count": 10,
     "metadata": {},
     "output_type": "execute_result"
    }
   ],
   "source": [
    "df.isnull().sum().sum()"
   ]
  },
  {
   "cell_type": "raw",
   "id": "ac66e1e2-aeb5-46ac-ab47-a933a9e9625a",
   "metadata": {},
   "source": [
    "As 15 is small value so we drop those records."
   ]
  },
  {
   "cell_type": "code",
   "execution_count": 11,
   "id": "f322494e-0f7b-4611-a0bf-7e09afee8c5e",
   "metadata": {},
   "outputs": [],
   "source": [
    "df.dropna(inplace= True)"
   ]
  },
  {
   "cell_type": "code",
   "execution_count": 12,
   "id": "10bb5282-420b-4433-91e1-9989612b2966",
   "metadata": {},
   "outputs": [
    {
     "data": {
      "text/plain": [
       "age                        0\n",
       "gender                     0\n",
       "chestpain                  0\n",
       "resting_blood_pressure     0\n",
       "cholestrol                 0\n",
       "fasting_blood_sugar        0\n",
       "restecg                    0\n",
       "max_heart_rate             0\n",
       "exercise_induced_angina    0\n",
       "oldpeak                    0\n",
       "slope                      0\n",
       "major_vessels              0\n",
       "thalassemia                0\n",
       "target                     0\n",
       "dtype: int64"
      ]
     },
     "execution_count": 12,
     "metadata": {},
     "output_type": "execute_result"
    }
   ],
   "source": [
    "df.isnull().sum()"
   ]
  },
  {
   "cell_type": "code",
   "execution_count": 13,
   "id": "41746bd6-c580-4b20-b990-f849d0568e48",
   "metadata": {},
   "outputs": [
    {
     "data": {
      "text/plain": [
       "(1185, 14)"
      ]
     },
     "execution_count": 13,
     "metadata": {},
     "output_type": "execute_result"
    }
   ],
   "source": [
    "df.shape"
   ]
  },
  {
   "cell_type": "code",
   "execution_count": 14,
   "id": "c4cafe9f-49aa-4988-82be-6f44af26df87",
   "metadata": {},
   "outputs": [
    {
     "data": {
      "text/html": [
       "<div>\n",
       "<style scoped>\n",
       "    .dataframe tbody tr th:only-of-type {\n",
       "        vertical-align: middle;\n",
       "    }\n",
       "\n",
       "    .dataframe tbody tr th {\n",
       "        vertical-align: top;\n",
       "    }\n",
       "\n",
       "    .dataframe thead th {\n",
       "        text-align: right;\n",
       "    }\n",
       "</style>\n",
       "<table border=\"1\" class=\"dataframe\">\n",
       "  <thead>\n",
       "    <tr style=\"text-align: right;\">\n",
       "      <th></th>\n",
       "      <th>age</th>\n",
       "      <th>resting_blood_pressure</th>\n",
       "      <th>cholestrol</th>\n",
       "      <th>fasting_blood_sugar</th>\n",
       "      <th>restecg</th>\n",
       "      <th>max_heart_rate</th>\n",
       "      <th>exercise_induced_angina</th>\n",
       "      <th>oldpeak</th>\n",
       "      <th>slope</th>\n",
       "      <th>major_vessels</th>\n",
       "      <th>target</th>\n",
       "    </tr>\n",
       "  </thead>\n",
       "  <tbody>\n",
       "    <tr>\n",
       "      <th>count</th>\n",
       "      <td>1185.000000</td>\n",
       "      <td>1185.000000</td>\n",
       "      <td>1185.000000</td>\n",
       "      <td>1185.000000</td>\n",
       "      <td>1185.000000</td>\n",
       "      <td>1185.000000</td>\n",
       "      <td>1185.000000</td>\n",
       "      <td>1185.000000</td>\n",
       "      <td>1185.000000</td>\n",
       "      <td>1185.000000</td>\n",
       "      <td>1185.000000</td>\n",
       "    </tr>\n",
       "    <tr>\n",
       "      <th>mean</th>\n",
       "      <td>54.509705</td>\n",
       "      <td>131.690295</td>\n",
       "      <td>246.126582</td>\n",
       "      <td>0.147679</td>\n",
       "      <td>0.528270</td>\n",
       "      <td>149.881013</td>\n",
       "      <td>0.334177</td>\n",
       "      <td>1.065992</td>\n",
       "      <td>1.380591</td>\n",
       "      <td>0.759494</td>\n",
       "      <td>0.511392</td>\n",
       "    </tr>\n",
       "    <tr>\n",
       "      <th>std</th>\n",
       "      <td>9.122854</td>\n",
       "      <td>17.551838</td>\n",
       "      <td>51.434367</td>\n",
       "      <td>0.354932</td>\n",
       "      <td>0.525774</td>\n",
       "      <td>31.907545</td>\n",
       "      <td>0.471901</td>\n",
       "      <td>1.179584</td>\n",
       "      <td>0.617423</td>\n",
       "      <td>1.025212</td>\n",
       "      <td>0.500081</td>\n",
       "    </tr>\n",
       "    <tr>\n",
       "      <th>min</th>\n",
       "      <td>29.000000</td>\n",
       "      <td>94.000000</td>\n",
       "      <td>126.000000</td>\n",
       "      <td>0.000000</td>\n",
       "      <td>0.000000</td>\n",
       "      <td>71.000000</td>\n",
       "      <td>0.000000</td>\n",
       "      <td>0.000000</td>\n",
       "      <td>0.000000</td>\n",
       "      <td>0.000000</td>\n",
       "      <td>0.000000</td>\n",
       "    </tr>\n",
       "    <tr>\n",
       "      <th>25%</th>\n",
       "      <td>48.000000</td>\n",
       "      <td>120.000000</td>\n",
       "      <td>211.000000</td>\n",
       "      <td>0.000000</td>\n",
       "      <td>0.000000</td>\n",
       "      <td>132.000000</td>\n",
       "      <td>0.000000</td>\n",
       "      <td>0.000000</td>\n",
       "      <td>1.000000</td>\n",
       "      <td>0.000000</td>\n",
       "      <td>0.000000</td>\n",
       "    </tr>\n",
       "    <tr>\n",
       "      <th>50%</th>\n",
       "      <td>56.000000</td>\n",
       "      <td>130.000000</td>\n",
       "      <td>240.000000</td>\n",
       "      <td>0.000000</td>\n",
       "      <td>1.000000</td>\n",
       "      <td>152.000000</td>\n",
       "      <td>0.000000</td>\n",
       "      <td>0.800000</td>\n",
       "      <td>1.000000</td>\n",
       "      <td>0.000000</td>\n",
       "      <td>1.000000</td>\n",
       "    </tr>\n",
       "    <tr>\n",
       "      <th>75%</th>\n",
       "      <td>61.000000</td>\n",
       "      <td>140.000000</td>\n",
       "      <td>276.000000</td>\n",
       "      <td>0.000000</td>\n",
       "      <td>1.000000</td>\n",
       "      <td>166.000000</td>\n",
       "      <td>1.000000</td>\n",
       "      <td>1.800000</td>\n",
       "      <td>2.000000</td>\n",
       "      <td>1.000000</td>\n",
       "      <td>1.000000</td>\n",
       "    </tr>\n",
       "    <tr>\n",
       "      <th>max</th>\n",
       "      <td>77.000000</td>\n",
       "      <td>200.000000</td>\n",
       "      <td>564.000000</td>\n",
       "      <td>1.000000</td>\n",
       "      <td>2.000000</td>\n",
       "      <td>880.000000</td>\n",
       "      <td>1.000000</td>\n",
       "      <td>6.200000</td>\n",
       "      <td>2.000000</td>\n",
       "      <td>4.000000</td>\n",
       "      <td>1.000000</td>\n",
       "    </tr>\n",
       "  </tbody>\n",
       "</table>\n",
       "</div>"
      ],
      "text/plain": [
       "               age  resting_blood_pressure   cholestrol  fasting_blood_sugar  \\\n",
       "count  1185.000000             1185.000000  1185.000000          1185.000000   \n",
       "mean     54.509705              131.690295   246.126582             0.147679   \n",
       "std       9.122854               17.551838    51.434367             0.354932   \n",
       "min      29.000000               94.000000   126.000000             0.000000   \n",
       "25%      48.000000              120.000000   211.000000             0.000000   \n",
       "50%      56.000000              130.000000   240.000000             0.000000   \n",
       "75%      61.000000              140.000000   276.000000             0.000000   \n",
       "max      77.000000              200.000000   564.000000             1.000000   \n",
       "\n",
       "           restecg  max_heart_rate  exercise_induced_angina      oldpeak  \\\n",
       "count  1185.000000     1185.000000              1185.000000  1185.000000   \n",
       "mean      0.528270      149.881013                 0.334177     1.065992   \n",
       "std       0.525774       31.907545                 0.471901     1.179584   \n",
       "min       0.000000       71.000000                 0.000000     0.000000   \n",
       "25%       0.000000      132.000000                 0.000000     0.000000   \n",
       "50%       1.000000      152.000000                 0.000000     0.800000   \n",
       "75%       1.000000      166.000000                 1.000000     1.800000   \n",
       "max       2.000000      880.000000                 1.000000     6.200000   \n",
       "\n",
       "             slope  major_vessels       target  \n",
       "count  1185.000000    1185.000000  1185.000000  \n",
       "mean      1.380591       0.759494     0.511392  \n",
       "std       0.617423       1.025212     0.500081  \n",
       "min       0.000000       0.000000     0.000000  \n",
       "25%       1.000000       0.000000     0.000000  \n",
       "50%       1.000000       0.000000     1.000000  \n",
       "75%       2.000000       1.000000     1.000000  \n",
       "max       2.000000       4.000000     1.000000  "
      ]
     },
     "execution_count": 14,
     "metadata": {},
     "output_type": "execute_result"
    }
   ],
   "source": [
    "df.describe()"
   ]
  },
  {
   "cell_type": "markdown",
   "id": "ab851645-8665-45ed-a1b4-7704a0343cf3",
   "metadata": {},
   "source": [
    "#### Dealing with outliers"
   ]
  },
  {
   "cell_type": "code",
   "execution_count": 15,
   "id": "313b7840-3d99-4c39-b5af-58352a388e6e",
   "metadata": {},
   "outputs": [
    {
     "data": {
      "image/png": "[encoded data removed]",
      "text/plain": [
       "<Figure size 640x480 with 1 Axes>"
      ]
     },
     "metadata": {},
     "output_type": "display_data"
    }
   ],
   "source": [
    "plt.boxplot(df[\"cholestrol\"])\n",
    "plt.title(\"Cholestrol\")\n",
    "plt.show()"
   ]
  },
  {
   "cell_type": "markdown",
   "id": "9c19d946-701b-4bde-9f58-458b628f09ce",
   "metadata": {},
   "source": [
    "As we can clearly see that there are a few outliers, we address them using the mean value of the feature. "
   ]
  },
  {
   "cell_type": "code",
   "execution_count": 16,
   "id": "85ac4187-e457-43b0-9fb7-4cc5352b54ac",
   "metadata": {},
   "outputs": [],
   "source": [
    "mean_value = df['cholestrol'].mean() \n",
    "\n",
    "for i in df['cholestrol']:\n",
    "    if i > 380:\n",
    "        df['cholestrol'] = df['cholestrol'].replace(i, mean_value)\n"
   ]
  },
  {
   "cell_type": "code",
   "execution_count": 17,
   "id": "941af2ff-10b6-4904-971b-2c7a15f064f7",
   "metadata": {},
   "outputs": [
    {
     "data": {
      "image/png": "[encoded data removed]",
      "text/plain": [
       "<Figure size 640x480 with 1 Axes>"
      ]
     },
     "metadata": {},
     "output_type": "display_data"
    }
   ],
   "source": [
    "plt.boxplot(df[\"cholestrol\"])\n",
    "plt.title(\"Revised Cholestrol\")\n",
    "plt.show()"
   ]
  },
  {
   "cell_type": "code",
   "execution_count": 18,
   "id": "31d33286-c401-4287-97a1-265d47c9a70e",
   "metadata": {},
   "outputs": [
    {
     "data": {
      "image/png": "[encoded data removed]",
      "text/plain": [
       "<Figure size 640x480 with 1 Axes>"
      ]
     },
     "metadata": {},
     "output_type": "display_data"
    }
   ],
   "source": [
    "plt.boxplot(df['max_heart_rate'])\n",
    "plt.title(\"Heartrate\")\n",
    "plt.show()"
   ]
  },
  {
   "cell_type": "code",
   "execution_count": 19,
   "id": "f95a2210-3a22-4127-9b7c-986a0b027604",
   "metadata": {},
   "outputs": [],
   "source": [
    "for i in df['max_heart_rate']:\n",
    "    if i > 180:\n",
    "        df['max_heart_rate'] = df['max_heart_rate'].replace(i, 180)"
   ]
  },
  {
   "cell_type": "markdown",
   "id": "334bb6aa-2f92-4432-b948-b6903756eff7",
   "metadata": {},
   "source": [
    "We replaced the outliers with 180 as it is the maximum heart rate of a person"
   ]
  },
  {
   "cell_type": "code",
   "execution_count": 20,
   "id": "ff773b2f-be0b-4315-bdb6-dae1f03de545",
   "metadata": {},
   "outputs": [
    {
     "data": {
      "image/png": "[encoded data removed]",
      "text/plain": [
       "<Figure size 640x480 with 1 Axes>"
      ]
     },
     "metadata": {},
     "output_type": "display_data"
    }
   ],
   "source": [
    "plt.boxplot(df['max_heart_rate'])\n",
    "plt.title(\"Revised Heartrate\")\n",
    "plt.show()"
   ]
  },
  {
   "cell_type": "code",
   "execution_count": 21,
   "id": "ce53865d-aa73-4a22-b868-9c77e5cac7f0",
   "metadata": {},
   "outputs": [
    {
     "data": {
      "text/plain": [
       "np.float64(71.0)"
      ]
     },
     "execution_count": 21,
     "metadata": {},
     "output_type": "execute_result"
    }
   ],
   "source": [
    "df['max_heart_rate'].min()"
   ]
  },
  {
   "cell_type": "raw",
   "id": "2ebc1a5f-f9cc-423d-8c32-62226824659d",
   "metadata": {},
   "source": [
    "As 71 is a normal heart rate so we leave it as it is. "
   ]
  },
  {
   "cell_type": "markdown",
   "id": "ec6702d5-eb2d-4a69-8e9b-6a7bb8bc0b20",
   "metadata": {},
   "source": [
    "## Data Wrangling"
   ]
  },
  {
   "cell_type": "markdown",
   "id": "ed99ce09-0745-47e9-93a4-e6f84fc14e70",
   "metadata": {},
   "source": [
    "#### One Hot Encoding"
   ]
  },
  {
   "cell_type": "code",
   "execution_count": 22,
   "id": "5e675e67-89b7-4c16-8c93-a5302d76c88d",
   "metadata": {},
   "outputs": [
    {
     "name": "stdout",
     "output_type": "stream",
     "text": [
      "0       1.0\n",
      "1       0.0\n",
      "2       0.0\n",
      "3       0.0\n",
      "4       1.0\n",
      "       ... \n",
      "1194    0.0\n",
      "1195    1.0\n",
      "1196    0.0\n",
      "1198    0.0\n",
      "1199    0.0\n",
      "Name: gender, Length: 1185, dtype: float64\n"
     ]
    }
   ],
   "source": [
    "ohe = OneHotEncoder(drop='first')\n",
    "en_gender = pd.get_dummies(df['gender']) \n",
    "en_array = ohe.fit_transform(en_gender).toarray()\n",
    "df['gender'] = en_array\n",
    "print(df['gender'])"
   ]
  },
  {
   "cell_type": "raw",
   "id": "c84fc271-9bc5-4321-b9ea-cd358fe379ad",
   "metadata": {},
   "source": [
    "Here, 1 stands for 'Female' while 0 stands for 'Male'."
   ]
  },
  {
   "cell_type": "markdown",
   "id": "36847f0e-0b77-4a37-b75c-e596e13d3b6c",
   "metadata": {},
   "source": [
    "#### Ordinal Encoding"
   ]
  },
  {
   "cell_type": "code",
   "execution_count": 23,
   "id": "48db1cf7-0779-4f77-8284-4a5aa7474ac9",
   "metadata": {},
   "outputs": [
    {
     "data": {
      "text/plain": [
       "array(['asymptomatic', 'atypical angina', 'non-anginal pain',\n",
       "       'typical angina'], dtype=object)"
      ]
     },
     "execution_count": 23,
     "metadata": {},
     "output_type": "execute_result"
    }
   ],
   "source": [
    "df['chestpain'].unique()"
   ]
  },
  {
   "cell_type": "code",
   "execution_count": 24,
   "id": "0c916bdd-db62-4d5b-ab04-9eb91aebbf42",
   "metadata": {},
   "outputs": [
    {
     "data": {
      "text/plain": [
       "0       1\n",
       "1       1\n",
       "2       1\n",
       "3       1\n",
       "4       1\n",
       "       ..\n",
       "1194    1\n",
       "1195    2\n",
       "1196    3\n",
       "1198    1\n",
       "1199    3\n",
       "Name: chestpain, Length: 1185, dtype: int64"
      ]
     },
     "execution_count": 24,
     "metadata": {},
     "output_type": "execute_result"
    }
   ],
   "source": [
    "cp_order = {\"asymptomatic\" : 1, \"atypical angina\" : 2, \"non-anginal pain\" : 3, \"typical angina\" : 4}\n",
    "df['chestpain'] = df['chestpain'].map(cp_order)\n",
    "df['chestpain']"
   ]
  },
  {
   "cell_type": "code",
   "execution_count": 25,
   "id": "8c95c179-5bcf-4714-8073-ea47ce18ea0b",
   "metadata": {},
   "outputs": [
    {
     "data": {
      "text/plain": [
       "array(['reversible defect', 'normal blood flow', 'fixed defect'],\n",
       "      dtype=object)"
      ]
     },
     "execution_count": 25,
     "metadata": {},
     "output_type": "execute_result"
    }
   ],
   "source": [
    "df['thalassemia'].unique()"
   ]
  },
  {
   "cell_type": "code",
   "execution_count": 26,
   "id": "2a66aa4a-4c98-4548-b5e3-d2d7498795f8",
   "metadata": {},
   "outputs": [
    {
     "data": {
      "text/plain": [
       "0       1\n",
       "1       1\n",
       "2       1\n",
       "3       1\n",
       "4       2\n",
       "       ..\n",
       "1194    2\n",
       "1195    2\n",
       "1196    1\n",
       "1198    1\n",
       "1199    1\n",
       "Name: thalassemia, Length: 1185, dtype: int64"
      ]
     },
     "execution_count": 26,
     "metadata": {},
     "output_type": "execute_result"
    }
   ],
   "source": [
    "th_order = {\"reversible defect\" : 1, \"normal blood flow\" : 2, \"fixed defect\" : 3}\n",
    "df['thalassemia'] = df['thalassemia'].map(th_order)\n",
    "\n",
    "df['thalassemia']"
   ]
  },
  {
   "cell_type": "code",
   "execution_count": 27,
   "id": "9c6b7eb2-3900-4c5b-8d68-304094a1b4a4",
   "metadata": {},
   "outputs": [
    {
     "data": {
      "text/plain": [
       "target\n",
       "1    606\n",
       "0    579\n",
       "Name: count, dtype: int64"
      ]
     },
     "execution_count": 27,
     "metadata": {},
     "output_type": "execute_result"
    }
   ],
   "source": [
    "df['target'].value_counts()"
   ]
  },
  {
   "cell_type": "raw",
   "id": "0917a8f4-0f39-40e6-b09a-af570aa533e9",
   "metadata": {},
   "source": [
    "Here, \n",
    "    0 -> Healthy Heart\n",
    "    1 -> Unhealthy/Defective Heart"
   ]
  },
  {
   "cell_type": "raw",
   "id": "4dddaa65-52a4-4c0b-aada-fe01917eb39d",
   "metadata": {},
   "source": [
    "So, we can clearly know that there are more people with a defective heart than a healthy heart."
   ]
  },
  {
   "cell_type": "markdown",
   "id": "80f57d2c-511d-489e-903b-3762dc4e8989",
   "metadata": {},
   "source": [
    "## Data Modelling"
   ]
  },
  {
   "cell_type": "markdown",
   "id": "a89f1771-a625-40e9-85ee-a874564191fd",
   "metadata": {},
   "source": [
    "#### Splitting the data"
   ]
  },
  {
   "cell_type": "code",
   "execution_count": 28,
   "id": "458e2bc2-5a05-4246-9619-562b95e57aa0",
   "metadata": {},
   "outputs": [],
   "source": [
    "X = df.drop(columns='target', axis = 1)\n",
    "Y = df['target']"
   ]
  },
  {
   "cell_type": "raw",
   "id": "ea00d25b-056f-4568-afbb-8834d04c0020",
   "metadata": {},
   "source": [
    "Note: axis = 1 = column and axis = 0 = rows"
   ]
  },
  {
   "cell_type": "code",
   "execution_count": 29,
   "id": "357c93f2-5a22-45fd-8cfe-049aa5e96981",
   "metadata": {},
   "outputs": [
    {
     "name": "stdout",
     "output_type": "stream",
     "text": [
      "      age  gender  chestpain  resting_blood_pressure  cholestrol  \\\n",
      "0      52     1.0          1                   125.0       212.0   \n",
      "1      53     0.0          1                   140.0       203.0   \n",
      "2      70     0.0          1                   145.0       174.0   \n",
      "3      61     0.0          1                   148.0       203.0   \n",
      "4      62     1.0          1                   138.0       294.0   \n",
      "...   ...     ...        ...                     ...         ...   \n",
      "1194   43     0.0          1                   150.0       247.0   \n",
      "1195   54     1.0          2                   132.0       288.0   \n",
      "1196   58     0.0          3                   105.0       240.0   \n",
      "1198   60     0.0          1                   140.0       293.0   \n",
      "1199   54     0.0          3                   150.0       232.0   \n",
      "\n",
      "      fasting_blood_sugar  restecg  max_heart_rate  exercise_induced_angina  \\\n",
      "0                       0      1.0           168.0                        0   \n",
      "1                       1      0.0           155.0                        1   \n",
      "2                       0      1.0           125.0                        1   \n",
      "3                       0      1.0           161.0                        0   \n",
      "4                       1      1.0           106.0                        0   \n",
      "...                   ...      ...             ...                      ...   \n",
      "1194                    0      1.0           171.0                        0   \n",
      "1195                    1      0.0           159.0                        1   \n",
      "1196                    0      0.0           154.0                        1   \n",
      "1198                    0      0.0           170.0                        0   \n",
      "1199                    0      0.0           165.0                        0   \n",
      "\n",
      "      oldpeak  slope  major_vessels  thalassemia  \n",
      "0         1.0    2.0              2            1  \n",
      "1         3.1    0.0              0            1  \n",
      "2         2.6    0.0              0            1  \n",
      "3         0.0    2.0              1            1  \n",
      "4         1.9    1.0              3            2  \n",
      "...       ...    ...            ...          ...  \n",
      "1194      1.5    2.0              0            2  \n",
      "1195      0.0    2.0              1            2  \n",
      "1196      0.6    1.0              0            1  \n",
      "1198      1.2    1.0              2            1  \n",
      "1199      1.6    2.0              0            1  \n",
      "\n",
      "[1185 rows x 13 columns]\n"
     ]
    }
   ],
   "source": [
    "print(X)"
   ]
  },
  {
   "cell_type": "code",
   "execution_count": 30,
   "id": "2368e44a-34b1-4c86-aaf9-8b9303da6d0f",
   "metadata": {},
   "outputs": [
    {
     "name": "stdout",
     "output_type": "stream",
     "text": [
      "0       0\n",
      "1       0\n",
      "2       0\n",
      "3       0\n",
      "4       0\n",
      "       ..\n",
      "1194    1\n",
      "1195    1\n",
      "1196    1\n",
      "1198    0\n",
      "1199    1\n",
      "Name: target, Length: 1185, dtype: int64\n"
     ]
    }
   ],
   "source": [
    "print(Y)"
   ]
  },
  {
   "cell_type": "markdown",
   "id": "f910d624-1107-45b3-8eae-3e1d874acbdd",
   "metadata": {},
   "source": [
    "## Train the Model"
   ]
  },
  {
   "cell_type": "markdown",
   "id": "2cc0f216-e325-4bc3-b6b9-2b3d914e0693",
   "metadata": {},
   "source": [
    "#### Split the model into training and testing data"
   ]
  },
  {
   "cell_type": "code",
   "execution_count": 31,
   "id": "1523fb59-c9bb-4a3d-87f1-b1ed87050602",
   "metadata": {},
   "outputs": [],
   "source": [
    "X_train, X_test, Y_train, Y_test = train_test_split(X,Y, test_size = 0.2, random_state = 50) "
   ]
  },
  {
   "cell_type": "code",
   "execution_count": 32,
   "id": "2c141926-35dc-4a5d-b9d3-36af5138c5a1",
   "metadata": {},
   "outputs": [
    {
     "name": "stdout",
     "output_type": "stream",
     "text": [
      "(948, 13) (237, 13)\n"
     ]
    }
   ],
   "source": [
    "print(X_train.shape, X_test.shape)"
   ]
  },
  {
   "cell_type": "raw",
   "id": "8bea2c52-fe36-4cc2-af5f-7ed1c6857fdd",
   "metadata": {},
   "source": [
    "Now, we have successfully split the dataset into training data i.e. 80% and testing data i.e. 20%."
   ]
  },
  {
   "cell_type": "markdown",
   "id": "d6937fc7-a02c-421c-9193-58d7fa55026b",
   "metadata": {},
   "source": [
    "#### Using Logistic Regression algorithm and training the model"
   ]
  },
  {
   "cell_type": "code",
   "execution_count": 33,
   "id": "dbcee53f-79c0-4d4f-9c29-b0c9f78e3873",
   "metadata": {},
   "outputs": [],
   "source": [
    "model = LogisticRegression()"
   ]
  },
  {
   "cell_type": "code",
   "execution_count": 34,
   "id": "5fdb8fd8-d116-40c2-959e-2c35850493c3",
   "metadata": {},
   "outputs": [
    {
     "data": {
      "text/html": [
       "<style>#sk-container-id-1 {\n",
       "  /* Definition of color scheme common for light and dark mode */\n",
       "  --sklearn-color-text: black;\n",
       "  --sklearn-color-line: gray;\n",
       "  /* Definition of color scheme for unfitted estimators */\n",
       "  --sklearn-color-unfitted-level-0: #fff5e6;\n",
       "  --sklearn-color-unfitted-level-1: #f6e4d2;\n",
       "  --sklearn-color-unfitted-level-2: #ffe0b3;\n",
       "  --sklearn-color-unfitted-level-3: chocolate;\n",
       "  /* Definition of color scheme for fitted estimators */\n",
       "  --sklearn-color-fitted-level-0: #f0f8ff;\n",
       "  --sklearn-color-fitted-level-1: #d4ebff;\n",
       "  --sklearn-color-fitted-level-2: #b3dbfd;\n",
       "  --sklearn-color-fitted-level-3: cornflowerblue;\n",
       "\n",
       "  /* Specific color for light theme */\n",
       "  --sklearn-color-text-on-default-background: var(--sg-text-color, var(--theme-code-foreground, var(--jp-content-font-color1, black)));\n",
       "  --sklearn-color-background: var(--sg-background-color, var(--theme-background, var(--jp-layout-color0, white)));\n",
       "  --sklearn-color-border-box: var(--sg-text-color, var(--theme-code-foreground, var(--jp-content-font-color1, black)));\n",
       "  --sklearn-color-icon: #696969;\n",
       "\n",
       "  @media (prefers-color-scheme: dark) {\n",
       "    /* Redefinition of color scheme for dark theme */\n",
       "    --sklearn-color-text-on-default-background: var(--sg-text-color, var(--theme-code-foreground, var(--jp-content-font-color1, white)));\n",
       "    --sklearn-color-background: var(--sg-background-color, var(--theme-background, var(--jp-layout-color0, #111)));\n",
       "    --sklearn-color-border-box: var(--sg-text-color, var(--theme-code-foreground, var(--jp-content-font-color1, white)));\n",
       "    --sklearn-color-icon: #878787;\n",
       "  }\n",
       "}\n",
       "\n",
       "#sk-container-id-1 {\n",
       "  color: var(--sklearn-color-text);\n",
       "}\n",
       "\n",
       "#sk-container-id-1 pre {\n",
       "  padding: 0;\n",
       "}\n",
       "\n",
       "#sk-container-id-1 input.sk-hidden--visually {\n",
       "  border: 0;\n",
       "  clip: rect(1px 1px 1px 1px);\n",
       "  clip: rect(1px, 1px, 1px, 1px);\n",
       "  height: 1px;\n",
       "  margin: -1px;\n",
       "  overflow: hidden;\n",
       "  padding: 0;\n",
       "  position: absolute;\n",
       "  width: 1px;\n",
       "}\n",
       "\n",
       "#sk-container-id-1 div.sk-dashed-wrapped {\n",
       "  border: 1px dashed var(--sklearn-color-line);\n",
       "  margin: 0 0.4em 0.5em 0.4em;\n",
       "  box-sizing: border-box;\n",
       "  padding-bottom: 0.4em;\n",
       "  background-color: var(--sklearn-color-background);\n",
       "}\n",
       "\n",
       "#sk-container-id-1 div.sk-container {\n",
       "  /* jupyter's `normalize.less` sets `[hidden] { display: none; }`\n",
       "     but bootstrap.min.css set `[hidden] { display: none !important; }`\n",
       "     so we also need the `!important` here to be able to override the\n",
       "     default hidden behavior on the sphinx rendered scikit-learn.org.\n",
       "     See: https://github.com/scikit-learn/scikit-learn/issues/21755 */\n",
       "  display: inline-block !important;\n",
       "  position: relative;\n",
       "}\n",
       "\n",
       "#sk-container-id-1 div.sk-text-repr-fallback {\n",
       "  display: none;\n",
       "}\n",
       "\n",
       "div.sk-parallel-item,\n",
       "div.sk-serial,\n",
       "div.sk-item {\n",
       "  /* draw centered vertical line to link estimators */\n",
       "  background-image: linear-gradient(var(--sklearn-color-text-on-default-background), var(--sklearn-color-text-on-default-background));\n",
       "  background-size: 2px 100%;\n",
       "  background-repeat: no-repeat;\n",
       "  background-position: center center;\n",
       "}\n",
       "\n",
       "/* Parallel-specific style estimator block */\n",
       "\n",
       "#sk-container-id-1 div.sk-parallel-item::after {\n",
       "  content: \"\";\n",
       "  width: 100%;\n",
       "  border-bottom: 2px solid var(--sklearn-color-text-on-default-background);\n",
       "  flex-grow: 1;\n",
       "}\n",
       "\n",
       "#sk-container-id-1 div.sk-parallel {\n",
       "  display: flex;\n",
       "  align-items: stretch;\n",
       "  justify-content: center;\n",
       "  background-color: var(--sklearn-color-background);\n",
       "  position: relative;\n",
       "}\n",
       "\n",
       "#sk-container-id-1 div.sk-parallel-item {\n",
       "  display: flex;\n",
       "  flex-direction: column;\n",
       "}\n",
       "\n",
       "#sk-container-id-1 div.sk-parallel-item:first-child::after {\n",
       "  align-self: flex-end;\n",
       "  width: 50%;\n",
       "}\n",
       "\n",
       "#sk-container-id-1 div.sk-parallel-item:last-child::after {\n",
       "  align-self: flex-start;\n",
       "  width: 50%;\n",
       "}\n",
       "\n",
       "#sk-container-id-1 div.sk-parallel-item:only-child::after {\n",
       "  width: 0;\n",
       "}\n",
       "\n",
       "/* Serial-specific style estimator block */\n",
       "\n",
       "#sk-container-id-1 div.sk-serial {\n",
       "  display: flex;\n",
       "  flex-direction: column;\n",
       "  align-items: center;\n",
       "  background-color: var(--sklearn-color-background);\n",
       "  padding-right: 1em;\n",
       "  padding-left: 1em;\n",
       "}\n",
       "\n",
       "\n",
       "/* Toggleable style: style used for estimator/Pipeline/ColumnTransformer box that is\n",
       "clickable and can be expanded/collapsed.\n",
       "- Pipeline and ColumnTransformer use this feature and define the default style\n",
       "- Estimators will overwrite some part of the style using the `sk-estimator` class\n",
       "*/\n",
       "\n",
       "/* Pipeline and ColumnTransformer style (default) */\n",
       "\n",
       "#sk-container-id-1 div.sk-toggleable {\n",
       "  /* Default theme specific background. It is overwritten whether we have a\n",
       "  specific estimator or a Pipeline/ColumnTransformer */\n",
       "  background-color: var(--sklearn-color-background);\n",
       "}\n",
       "\n",
       "/* Toggleable label */\n",
       "#sk-container-id-1 label.sk-toggleable__label {\n",
       "  cursor: pointer;\n",
       "  display: block;\n",
       "  width: 100%;\n",
       "  margin-bottom: 0;\n",
       "  padding: 0.5em;\n",
       "  box-sizing: border-box;\n",
       "  text-align: center;\n",
       "}\n",
       "\n",
       "#sk-container-id-1 label.sk-toggleable__label-arrow:before {\n",
       "  /* Arrow on the left of the label */\n",
       "  content: \"▸\";\n",
       "  float: left;\n",
       "  margin-right: 0.25em;\n",
       "  color: var(--sklearn-color-icon);\n",
       "}\n",
       "\n",
       "#sk-container-id-1 label.sk-toggleable__label-arrow:hover:before {\n",
       "  color: var(--sklearn-color-text);\n",
       "}\n",
       "\n",
       "/* Toggleable content - dropdown */\n",
       "\n",
       "#sk-container-id-1 div.sk-toggleable__content {\n",
       "  max-height: 0;\n",
       "  max-width: 0;\n",
       "  overflow: hidden;\n",
       "  text-align: left;\n",
       "  /* unfitted */\n",
       "  background-color: var(--sklearn-color-unfitted-level-0);\n",
       "}\n",
       "\n",
       "#sk-container-id-1 div.sk-toggleable__content.fitted {\n",
       "  /* fitted */\n",
       "  background-color: var(--sklearn-color-fitted-level-0);\n",
       "}\n",
       "\n",
       "#sk-container-id-1 div.sk-toggleable__content pre {\n",
       "  margin: 0.2em;\n",
       "  border-radius: 0.25em;\n",
       "  color: var(--sklearn-color-text);\n",
       "  /* unfitted */\n",
       "  background-color: var(--sklearn-color-unfitted-level-0);\n",
       "}\n",
       "\n",
       "#sk-container-id-1 div.sk-toggleable__content.fitted pre {\n",
       "  /* unfitted */\n",
       "  background-color: var(--sklearn-color-fitted-level-0);\n",
       "}\n",
       "\n",
       "#sk-container-id-1 input.sk-toggleable__control:checked~div.sk-toggleable__content {\n",
       "  /* Expand drop-down */\n",
       "  max-height: 200px;\n",
       "  max-width: 100%;\n",
       "  overflow: auto;\n",
       "}\n",
       "\n",
       "#sk-container-id-1 input.sk-toggleable__control:checked~label.sk-toggleable__label-arrow:before {\n",
       "  content: \"▾\";\n",
       "}\n",
       "\n",
       "/* Pipeline/ColumnTransformer-specific style */\n",
       "\n",
       "#sk-container-id-1 div.sk-label input.sk-toggleable__control:checked~label.sk-toggleable__label {\n",
       "  color: var(--sklearn-color-text);\n",
       "  background-color: var(--sklearn-color-unfitted-level-2);\n",
       "}\n",
       "\n",
       "#sk-container-id-1 div.sk-label.fitted input.sk-toggleable__control:checked~label.sk-toggleable__label {\n",
       "  background-color: var(--sklearn-color-fitted-level-2);\n",
       "}\n",
       "\n",
       "/* Estimator-specific style */\n",
       "\n",
       "/* Colorize estimator box */\n",
       "#sk-container-id-1 div.sk-estimator input.sk-toggleable__control:checked~label.sk-toggleable__label {\n",
       "  /* unfitted */\n",
       "  background-color: var(--sklearn-color-unfitted-level-2);\n",
       "}\n",
       "\n",
       "#sk-container-id-1 div.sk-estimator.fitted input.sk-toggleable__control:checked~label.sk-toggleable__label {\n",
       "  /* fitted */\n",
       "  background-color: var(--sklearn-color-fitted-level-2);\n",
       "}\n",
       "\n",
       "#sk-container-id-1 div.sk-label label.sk-toggleable__label,\n",
       "#sk-container-id-1 div.sk-label label {\n",
       "  /* The background is the default theme color */\n",
       "  color: var(--sklearn-color-text-on-default-background);\n",
       "}\n",
       "\n",
       "/* On hover, darken the color of the background */\n",
       "#sk-container-id-1 div.sk-label:hover label.sk-toggleable__label {\n",
       "  color: var(--sklearn-color-text);\n",
       "  background-color: var(--sklearn-color-unfitted-level-2);\n",
       "}\n",
       "\n",
       "/* Label box, darken color on hover, fitted */\n",
       "#sk-container-id-1 div.sk-label.fitted:hover label.sk-toggleable__label.fitted {\n",
       "  color: var(--sklearn-color-text);\n",
       "  background-color: var(--sklearn-color-fitted-level-2);\n",
       "}\n",
       "\n",
       "/* Estimator label */\n",
       "\n",
       "#sk-container-id-1 div.sk-label label {\n",
       "  font-family: monospace;\n",
       "  font-weight: bold;\n",
       "  display: inline-block;\n",
       "  line-height: 1.2em;\n",
       "}\n",
       "\n",
       "#sk-container-id-1 div.sk-label-container {\n",
       "  text-align: center;\n",
       "}\n",
       "\n",
       "/* Estimator-specific */\n",
       "#sk-container-id-1 div.sk-estimator {\n",
       "  font-family: monospace;\n",
       "  border: 1px dotted var(--sklearn-color-border-box);\n",
       "  border-radius: 0.25em;\n",
       "  box-sizing: border-box;\n",
       "  margin-bottom: 0.5em;\n",
       "  /* unfitted */\n",
       "  background-color: var(--sklearn-color-unfitted-level-0);\n",
       "}\n",
       "\n",
       "#sk-container-id-1 div.sk-estimator.fitted {\n",
       "  /* fitted */\n",
       "  background-color: var(--sklearn-color-fitted-level-0);\n",
       "}\n",
       "\n",
       "/* on hover */\n",
       "#sk-container-id-1 div.sk-estimator:hover {\n",
       "  /* unfitted */\n",
       "  background-color: var(--sklearn-color-unfitted-level-2);\n",
       "}\n",
       "\n",
       "#sk-container-id-1 div.sk-estimator.fitted:hover {\n",
       "  /* fitted */\n",
       "  background-color: var(--sklearn-color-fitted-level-2);\n",
       "}\n",
       "\n",
       "/* Specification for estimator info (e.g. \"i\" and \"?\") */\n",
       "\n",
       "/* Common style for \"i\" and \"?\" */\n",
       "\n",
       ".sk-estimator-doc-link,\n",
       "a:link.sk-estimator-doc-link,\n",
       "a:visited.sk-estimator-doc-link {\n",
       "  float: right;\n",
       "  font-size: smaller;\n",
       "  line-height: 1em;\n",
       "  font-family: monospace;\n",
       "  background-color: var(--sklearn-color-background);\n",
       "  border-radius: 1em;\n",
       "  height: 1em;\n",
       "  width: 1em;\n",
       "  text-decoration: none !important;\n",
       "  margin-left: 1ex;\n",
       "  /* unfitted */\n",
       "  border: var(--sklearn-color-unfitted-level-1) 1pt solid;\n",
       "  color: var(--sklearn-color-unfitted-level-1);\n",
       "}\n",
       "\n",
       ".sk-estimator-doc-link.fitted,\n",
       "a:link.sk-estimator-doc-link.fitted,\n",
       "a:visited.sk-estimator-doc-link.fitted {\n",
       "  /* fitted */\n",
       "  border: var(--sklearn-color-fitted-level-1) 1pt solid;\n",
       "  color: var(--sklearn-color-fitted-level-1);\n",
       "}\n",
       "\n",
       "/* On hover */\n",
       "div.sk-estimator:hover .sk-estimator-doc-link:hover,\n",
       ".sk-estimator-doc-link:hover,\n",
       "div.sk-label-container:hover .sk-estimator-doc-link:hover,\n",
       ".sk-estimator-doc-link:hover {\n",
       "  /* unfitted */\n",
       "  background-color: var(--sklearn-color-unfitted-level-3);\n",
       "  color: var(--sklearn-color-background);\n",
       "  text-decoration: none;\n",
       "}\n",
       "\n",
       "div.sk-estimator.fitted:hover .sk-estimator-doc-link.fitted:hover,\n",
       ".sk-estimator-doc-link.fitted:hover,\n",
       "div.sk-label-container:hover .sk-estimator-doc-link.fitted:hover,\n",
       ".sk-estimator-doc-link.fitted:hover {\n",
       "  /* fitted */\n",
       "  background-color: var(--sklearn-color-fitted-level-3);\n",
       "  color: var(--sklearn-color-background);\n",
       "  text-decoration: none;\n",
       "}\n",
       "\n",
       "/* Span, style for the box shown on hovering the info icon */\n",
       ".sk-estimator-doc-link span {\n",
       "  display: none;\n",
       "  z-index: 9999;\n",
       "  position: relative;\n",
       "  font-weight: normal;\n",
       "  right: .2ex;\n",
       "  padding: .5ex;\n",
       "  margin: .5ex;\n",
       "  width: min-content;\n",
       "  min-width: 20ex;\n",
       "  max-width: 50ex;\n",
       "  color: var(--sklearn-color-text);\n",
       "  box-shadow: 2pt 2pt 4pt #999;\n",
       "  /* unfitted */\n",
       "  background: var(--sklearn-color-unfitted-level-0);\n",
       "  border: .5pt solid var(--sklearn-color-unfitted-level-3);\n",
       "}\n",
       "\n",
       ".sk-estimator-doc-link.fitted span {\n",
       "  /* fitted */\n",
       "  background: var(--sklearn-color-fitted-level-0);\n",
       "  border: var(--sklearn-color-fitted-level-3);\n",
       "}\n",
       "\n",
       ".sk-estimator-doc-link:hover span {\n",
       "  display: block;\n",
       "}\n",
       "\n",
       "/* \"?\"-specific style due to the `<a>` HTML tag */\n",
       "\n",
       "#sk-container-id-1 a.estimator_doc_link {\n",
       "  float: right;\n",
       "  font-size: 1rem;\n",
       "  line-height: 1em;\n",
       "  font-family: monospace;\n",
       "  background-color: var(--sklearn-color-background);\n",
       "  border-radius: 1rem;\n",
       "  height: 1rem;\n",
       "  width: 1rem;\n",
       "  text-decoration: none;\n",
       "  /* unfitted */\n",
       "  color: var(--sklearn-color-unfitted-level-1);\n",
       "  border: var(--sklearn-color-unfitted-level-1) 1pt solid;\n",
       "}\n",
       "\n",
       "#sk-container-id-1 a.estimator_doc_link.fitted {\n",
       "  /* fitted */\n",
       "  border: var(--sklearn-color-fitted-level-1) 1pt solid;\n",
       "  color: var(--sklearn-color-fitted-level-1);\n",
       "}\n",
       "\n",
       "/* On hover */\n",
       "#sk-container-id-1 a.estimator_doc_link:hover {\n",
       "  /* unfitted */\n",
       "  background-color: var(--sklearn-color-unfitted-level-3);\n",
       "  color: var(--sklearn-color-background);\n",
       "  text-decoration: none;\n",
       "}\n",
       "\n",
       "#sk-container-id-1 a.estimator_doc_link.fitted:hover {\n",
       "  /* fitted */\n",
       "  background-color: var(--sklearn-color-fitted-level-3);\n",
       "}\n",
       "</style><div id=\"sk-container-id-1\" class=\"sk-top-container\"><div class=\"sk-text-repr-fallback\"><pre>LogisticRegression()</pre><b>In a Jupyter environment, please rerun this cell to show the HTML representation or trust the notebook. <br />On GitHub, the HTML representation is unable to render, please try loading this page with nbviewer.org.</b></div><div class=\"sk-container\" hidden><div class=\"sk-item\"><div class=\"sk-estimator fitted sk-toggleable\"><input class=\"sk-toggleable__control sk-hidden--visually\" id=\"sk-estimator-id-1\" type=\"checkbox\" checked><label for=\"sk-estimator-id-1\" class=\"sk-toggleable__label fitted sk-toggleable__label-arrow fitted\">&nbsp;&nbsp;LogisticRegression<a class=\"sk-estimator-doc-link fitted\" rel=\"noreferrer\" target=\"_blank\" href=\"https://scikit-learn.org/1.5/modules/generated/sklearn.linear_model.LogisticRegression.html\">?<span>Documentation for LogisticRegression</span></a><span class=\"sk-estimator-doc-link fitted\">i<span>Fitted</span></span></label><div class=\"sk-toggleable__content fitted\"><pre>LogisticRegression()</pre></div> </div></div></div></div>"
      ],
      "text/plain": [
       "LogisticRegression()"
      ]
     },
     "execution_count": 34,
     "metadata": {},
     "output_type": "execute_result"
    }
   ],
   "source": [
    "model.fit(X_train, Y_train)"
   ]
  },
  {
   "cell_type": "markdown",
   "id": "a255ad51-3b52-43f1-a110-968da799e6cf",
   "metadata": {},
   "source": [
    "## Test the Model"
   ]
  },
  {
   "cell_type": "markdown",
   "id": "a6870d2f-53d0-4ce4-be4f-08d14fb72785",
   "metadata": {},
   "source": [
    "#### Testing the model using testing data"
   ]
  },
  {
   "cell_type": "code",
   "execution_count": 35,
   "id": "4ea5a802-8c70-409c-a152-2c44576ea9a0",
   "metadata": {},
   "outputs": [
    {
     "data": {
      "text/plain": [
       "array([1, 1, 1, 0, 1, 1, 1, 0, 0, 1, 0, 1, 1, 0, 0, 0, 1, 1, 1, 1, 0, 1,\n",
       "       1, 0, 1, 1, 1, 1, 1, 1, 1, 1, 0, 1, 1, 1, 0, 0, 1, 1, 0, 0, 1, 0,\n",
       "       1, 1, 0, 1, 1, 0, 1, 0, 0, 0, 0, 1, 1, 1, 1, 0, 0, 1, 1, 0, 1, 0,\n",
       "       0, 1, 1, 0, 1, 1, 0, 0, 1, 1, 1, 0, 1, 0, 1, 0, 0, 1, 0, 1, 0, 0,\n",
       "       1, 0, 1, 1, 1, 0, 0, 1, 1, 1, 0, 0, 0, 1, 0, 1, 1, 0, 1, 1, 1, 0,\n",
       "       0, 1, 0, 0, 0, 1, 1, 0, 1, 1, 0, 1, 1, 1, 1, 1, 1, 1, 0, 1, 0, 1,\n",
       "       1, 1, 1, 1, 1, 1, 0, 1, 1, 0, 0, 0, 1, 1, 0, 1, 0, 0, 1, 0, 0, 0,\n",
       "       0, 0, 0, 0, 0, 1, 0, 0, 0, 0, 1, 1, 0, 1, 1, 1, 1, 0, 1, 1, 1, 1,\n",
       "       0, 1, 0, 1, 0, 0, 1, 0, 1, 1, 0, 0, 0, 1, 1, 1, 1, 0, 0, 1, 1, 1,\n",
       "       1, 1, 1, 1, 1, 1, 0, 0, 1, 0, 1, 0, 1, 1, 0, 1, 1, 1, 0, 1, 0, 1,\n",
       "       1, 1, 1, 1, 1, 1, 1, 0, 0, 1, 1, 1, 0, 0, 1, 1, 1])"
      ]
     },
     "execution_count": 35,
     "metadata": {},
     "output_type": "execute_result"
    }
   ],
   "source": [
    "test_data_pred = model.predict(X_test)\n",
    "test_data_pred"
   ]
  },
  {
   "cell_type": "markdown",
   "id": "925a89ac-f8c0-4b76-a53b-159c5b90bbac",
   "metadata": {},
   "source": [
    "#### Testing the model using training data"
   ]
  },
  {
   "cell_type": "code",
   "execution_count": 36,
   "id": "1807fd98-3c49-4c2b-9301-feab12cb8afb",
   "metadata": {},
   "outputs": [
    {
     "data": {
      "text/plain": [
       "array([1, 1, 1, 0, 0, 1, 1, 0, 1, 1, 0, 1, 1, 0, 1, 1, 1, 0, 1, 0, 0, 1,\n",
       "       0, 1, 1, 0, 0, 1, 1, 0, 0, 1, 1, 1, 0, 1, 1, 1, 0, 0, 0, 1, 0, 1,\n",
       "       0, 1, 0, 1, 1, 1, 1, 1, 1, 1, 0, 0, 1, 1, 1, 1, 0, 0, 0, 1, 1, 1,\n",
       "       1, 1, 1, 0, 1, 1, 0, 1, 1, 0, 1, 1, 1, 0, 1, 0, 1, 1, 0, 1, 1, 1,\n",
       "       1, 0, 1, 1, 0, 1, 0, 1, 1, 0, 0, 0, 0, 0, 0, 1, 1, 0, 1, 1, 0, 1,\n",
       "       0, 0, 1, 1, 1, 1, 1, 0, 1, 0, 1, 1, 0, 0, 0, 1, 0, 1, 1, 1, 1, 0,\n",
       "       1, 0, 1, 1, 1, 0, 1, 0, 1, 1, 1, 1, 1, 0, 0, 0, 1, 0, 1, 1, 0, 1,\n",
       "       1, 0, 1, 1, 0, 1, 1, 1, 0, 0, 1, 0, 0, 0, 0, 1, 1, 1, 0, 0, 1, 1,\n",
       "       1, 0, 0, 1, 0, 1, 0, 0, 0, 1, 0, 0, 1, 1, 0, 0, 1, 1, 1, 1, 0, 0,\n",
       "       0, 0, 1, 0, 1, 1, 1, 1, 1, 1, 1, 1, 1, 0, 1, 1, 0, 1, 1, 0, 1, 0,\n",
       "       1, 0, 1, 1, 1, 0, 0, 1, 1, 1, 1, 0, 1, 0, 1, 0, 0, 1, 0, 1, 0, 1,\n",
       "       1, 1, 1, 0, 1, 1, 1, 1, 0, 1, 0, 0, 1, 1, 0, 0, 0, 1, 1, 1, 1, 1,\n",
       "       0, 0, 0, 0, 1, 0, 0, 0, 1, 0, 0, 1, 0, 1, 0, 1, 0, 1, 1, 0, 0, 0,\n",
       "       0, 1, 1, 0, 1, 1, 1, 0, 1, 1, 0, 1, 1, 0, 0, 1, 0, 0, 0, 0, 0, 1,\n",
       "       0, 1, 1, 0, 0, 1, 1, 0, 0, 1, 0, 0, 0, 0, 1, 1, 0, 0, 0, 1, 1, 0,\n",
       "       0, 0, 1, 1, 0, 1, 1, 0, 0, 0, 1, 1, 1, 1, 1, 0, 0, 0, 1, 1, 1, 1,\n",
       "       1, 1, 1, 1, 0, 1, 0, 1, 0, 1, 1, 1, 1, 0, 1, 1, 1, 0, 1, 1, 1, 1,\n",
       "       0, 1, 0, 1, 0, 0, 0, 1, 1, 0, 0, 0, 1, 1, 0, 0, 1, 1, 1, 0, 0, 0,\n",
       "       1, 0, 0, 1, 0, 0, 0, 0, 1, 0, 0, 1, 1, 0, 1, 0, 0, 1, 0, 0, 0, 1,\n",
       "       1, 0, 0, 0, 1, 0, 0, 0, 0, 1, 1, 0, 0, 0, 0, 1, 0, 1, 0, 1, 1, 0,\n",
       "       0, 1, 1, 0, 1, 1, 1, 1, 1, 1, 1, 1, 0, 0, 1, 0, 1, 0, 1, 1, 0, 1,\n",
       "       0, 1, 0, 0, 0, 1, 1, 1, 1, 1, 0, 0, 1, 1, 0, 1, 1, 0, 0, 1, 0, 1,\n",
       "       1, 1, 1, 0, 1, 0, 0, 0, 1, 0, 1, 1, 0, 0, 0, 0, 1, 1, 1, 0, 1, 1,\n",
       "       0, 1, 1, 0, 0, 0, 1, 0, 0, 1, 0, 1, 1, 1, 1, 0, 0, 1, 1, 1, 1, 0,\n",
       "       1, 1, 0, 1, 0, 0, 1, 1, 0, 1, 0, 0, 0, 1, 0, 1, 1, 1, 1, 0, 0, 1,\n",
       "       1, 1, 0, 1, 1, 1, 0, 0, 0, 1, 0, 1, 0, 0, 0, 1, 0, 0, 0, 0, 0, 0,\n",
       "       0, 1, 1, 1, 1, 1, 1, 1, 1, 0, 0, 1, 0, 0, 0, 0, 0, 1, 0, 1, 0, 0,\n",
       "       0, 0, 0, 0, 0, 1, 1, 1, 1, 1, 0, 1, 1, 1, 0, 0, 1, 0, 1, 1, 0, 0,\n",
       "       1, 1, 1, 1, 1, 1, 1, 1, 0, 1, 0, 1, 0, 0, 1, 0, 0, 1, 1, 1, 0, 1,\n",
       "       1, 0, 0, 1, 1, 1, 1, 0, 0, 1, 0, 1, 1, 1, 0, 1, 0, 0, 0, 1, 1, 1,\n",
       "       1, 0, 1, 1, 1, 1, 1, 0, 0, 1, 1, 1, 1, 0, 1, 1, 1, 0, 0, 1, 1, 0,\n",
       "       1, 0, 0, 1, 1, 1, 1, 0, 0, 1, 0, 1, 1, 1, 1, 0, 1, 1, 0, 1, 0, 0,\n",
       "       0, 1, 0, 0, 0, 0, 1, 1, 1, 0, 1, 0, 1, 1, 0, 1, 0, 1, 0, 1, 1, 1,\n",
       "       0, 1, 0, 0, 0, 0, 1, 1, 0, 0, 0, 1, 0, 1, 1, 1, 0, 0, 1, 1, 0, 1,\n",
       "       0, 0, 0, 0, 1, 1, 0, 1, 1, 0, 1, 0, 0, 1, 1, 1, 1, 0, 0, 0, 1, 0,\n",
       "       1, 1, 1, 1, 1, 1, 0, 1, 0, 0, 0, 1, 1, 1, 0, 1, 1, 1, 0, 0, 1, 1,\n",
       "       0, 1, 1, 0, 0, 1, 1, 0, 1, 1, 1, 0, 1, 0, 0, 1, 1, 1, 1, 1, 0, 1,\n",
       "       0, 1, 0, 1, 0, 0, 1, 1, 0, 1, 1, 0, 1, 0, 1, 0, 1, 0, 0, 1, 0, 1,\n",
       "       0, 1, 1, 0, 1, 1, 1, 0, 0, 0, 0, 0, 0, 1, 0, 1, 1, 0, 1, 1, 1, 0,\n",
       "       1, 1, 1, 0, 1, 1, 1, 1, 0, 1, 0, 1, 0, 1, 1, 0, 0, 0, 0, 0, 0, 1,\n",
       "       1, 1, 0, 1, 1, 0, 0, 0, 1, 1, 0, 1, 1, 1, 1, 1, 0, 0, 0, 1, 1, 1,\n",
       "       1, 1, 0, 1, 0, 1, 1, 0, 1, 0, 1, 1, 1, 1, 1, 1, 0, 0, 0, 0, 1, 0,\n",
       "       1, 1, 1, 1, 0, 1, 0, 0, 1, 0, 0, 0, 1, 0, 1, 1, 0, 0, 0, 0, 0, 0,\n",
       "       1, 0])"
      ]
     },
     "execution_count": 36,
     "metadata": {},
     "output_type": "execute_result"
    }
   ],
   "source": [
    "train_data_pred = model.predict(X_train)\n",
    "train_data_pred"
   ]
  },
  {
   "cell_type": "markdown",
   "id": "ffb3c52c-624b-41d3-9a1a-ebe32b46d812",
   "metadata": {},
   "source": [
    "## Model Evaluation"
   ]
  },
  {
   "cell_type": "markdown",
   "id": "f74f63a0-c911-43da-a53f-ce6d0f16e082",
   "metadata": {},
   "source": [
    "#### Accuracy check on training data"
   ]
  },
  {
   "cell_type": "code",
   "execution_count": 37,
   "id": "672544d9-6d6b-4426-8070-3fbbc399e2a2",
   "metadata": {},
   "outputs": [
    {
     "name": "stdout",
     "output_type": "stream",
     "text": [
      "Accuracy on training data = 85.02%\n"
     ]
    }
   ],
   "source": [
    "training_data_accuracy = round(accuracy_score(train_data_pred, Y_train) * 100, 2)\n",
    "print(f\"Accuracy on training data = {training_data_accuracy}%\")"
   ]
  },
  {
   "cell_type": "markdown",
   "id": "b0448779-6219-4853-b358-c81853d0ef17",
   "metadata": {},
   "source": [
    "#### Accuracy check on testing data"
   ]
  },
  {
   "cell_type": "code",
   "execution_count": 38,
   "id": "c305a1e1-2e77-493f-bde9-1a1cc3fcc586",
   "metadata": {},
   "outputs": [
    {
     "name": "stdout",
     "output_type": "stream",
     "text": [
      "Accuracy on testing data = 86.92%\n"
     ]
    }
   ],
   "source": [
    "testing_data_accuracy = round(accuracy_score(test_data_pred, Y_test) * 100, 2)\n",
    "print(f\"Accuracy on testing data = {testing_data_accuracy}%\")"
   ]
  },
  {
   "cell_type": "raw",
   "id": "fbac77d8-bf64-43cd-a4a4-ac109e96aedc",
   "metadata": {},
   "source": [
    "As there is not much different so the model works fine. "
   ]
  },
  {
   "cell_type": "raw",
   "id": "5aba5695-4ee6-4766-afd1-5e1e8634fdb7",
   "metadata": {},
   "source": [
    "If the difference between the accuracy of training data and testing data would have been more then the problem of overfitting would have arised."
   ]
  },
  {
   "cell_type": "markdown",
   "id": "1eefb67c-a14a-45fd-b083-767740db1c5b",
   "metadata": {},
   "source": [
    "## Dynamic Prediction Module"
   ]
  },
  {
   "cell_type": "code",
   "execution_count": 39,
   "id": "d8e45a71-13fd-4b40-ac5b-1910323de8a2",
   "metadata": {},
   "outputs": [],
   "source": [
    "user_data = (61,1,1,130,330,0,0,169,0,0,2,0,2)"
   ]
  },
  {
   "cell_type": "markdown",
   "id": "9331edb2-433a-4528-b50a-4610abb921e2",
   "metadata": {},
   "source": [
    "#### Change the input into a numpy array"
   ]
  },
  {
   "cell_type": "code",
   "execution_count": 40,
   "id": "6c533518-0e9e-4b06-b8c8-f0e1dd4495ba",
   "metadata": {},
   "outputs": [
    {
     "data": {
      "text/plain": [
       "array([ 61,   1,   1, 130, 330,   0,   0, 169,   0,   0,   2,   0,   2])"
      ]
     },
     "execution_count": 40,
     "metadata": {},
     "output_type": "execute_result"
    }
   ],
   "source": [
    "user_data_nparray = np.asarray(user_data)\n",
    "user_data_nparray"
   ]
  },
  {
   "cell_type": "markdown",
   "id": "4fcd9132-b9f9-4bae-a8b8-c239cbd9d7b9",
   "metadata": {},
   "source": [
    "#### Reshape the data for one instance"
   ]
  },
  {
   "cell_type": "markdown",
   "id": "fd9790ea",
   "metadata": {},
   "source": [
    "### Here below reshape(1,-1) Means (1,-1)-row vector - one row and multiple columns"
   ]
  },
  {
   "cell_type": "code",
   "execution_count": 41,
   "id": "df924cd2-1652-4ffa-83f1-dae4cec66c7e",
   "metadata": {},
   "outputs": [
    {
     "data": {
      "text/plain": [
       "array([[ 61,   1,   1, 130, 330,   0,   0, 169,   0,   0,   2,   0,   2]])"
      ]
     },
     "execution_count": 41,
     "metadata": {},
     "output_type": "execute_result"
    }
   ],
   "source": [
    "user_data_nparray_reshaped = user_data_nparray.reshape(1,-1)\n",
    "user_data_nparray_reshaped"
   ]
  },
  {
   "cell_type": "markdown",
   "id": "6417441b-c2db-4fcf-8042-671598fa0332",
   "metadata": {},
   "source": [
    "#### Make the prediction on the user data"
   ]
  },
  {
   "cell_type": "code",
   "execution_count": 42,
   "id": "b2e4a990-3433-4f42-b974-829596b5c063",
   "metadata": {},
   "outputs": [
    {
     "data": {
      "text/plain": [
       "array([1])"
      ]
     },
     "execution_count": 42,
     "metadata": {},
     "output_type": "execute_result"
    }
   ],
   "source": [
    "user_data_pred = model.predict(user_data_nparray_reshaped)\n",
    "user_data_pred"
   ]
  },
  {
   "cell_type": "markdown",
   "id": "f9ad0095-17be-4161-90c9-854735a289a0",
   "metadata": {},
   "source": [
    "#### Convert numeric value into text as output"
   ]
  },
  {
   "cell_type": "code",
   "execution_count": 43,
   "id": "897e6ed7-af6e-4b23-aa84-e987eabae74d",
   "metadata": {},
   "outputs": [
    {
     "name": "stdout",
     "output_type": "stream",
     "text": [
      "The person has an unhealthy heart.\n"
     ]
    }
   ],
   "source": [
    "if user_data_pred == 1:\n",
    "    print(\"The person has an unhealthy heart.\")\n",
    "else:\n",
    "    print(\"The person has a healthy heart.\")"
   ]
  },
  {
   "cell_type": "markdown",
   "id": "a8b8adf9-b32f-43f1-9aae-0782c5599466",
   "metadata": {},
   "source": [
    "## Saving the model"
   ]
  },
  {
   "cell_type": "code",
   "execution_count": 44,
   "id": "ed90c03e-0706-4ce4-a430-9f07a41d6347",
   "metadata": {},
   "outputs": [],
   "source": [
    "pickle.dump(model, open(\"Heart_Disease_Detection_Model_Using_LR\", \"wb\"))"
   ]
  },
  {
   "cell_type": "raw",
   "id": "c3036f74-a879-440e-8905-e23e0f8b7a9e",
   "metadata": {},
   "source": [
    "Filename = Heart_Disease_Detection_Model_Using_LR"
   ]
  },
  {
   "cell_type": "markdown",
   "id": "19edba49-a2ee-4d54-9b6b-8fdc7a2cfc9c",
   "metadata": {},
   "source": [
    "## Model Deployment"
   ]
  },
  {
   "cell_type": "raw",
   "id": "e3ccb956-57f7-486f-9736-eda1eacbb8b1",
   "metadata": {},
   "source": [
    "For deploying the model we will be using streamlit."
   ]
  }
 ],
 "metadata": {
  "kernelspec": {
   "display_name": "Python 3 (ipykernel)",
   "language": "python",
   "name": "python3"
  },
  "language_info": {
   "codemirror_mode": {
    "name": "ipython",
    "version": 3
   },
   "file_extension": ".py",
   "mimetype": "text/x-python",
   "name": "python",
   "nbconvert_exporter": "python",
   "pygments_lexer": "ipython3",
   "version": "3.12.4"
  }
 },
 "nbformat": 4,
 "nbformat_minor": 5
}
